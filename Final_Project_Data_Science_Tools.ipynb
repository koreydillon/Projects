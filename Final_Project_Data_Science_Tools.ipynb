{
 "cells": [
  {
   "cell_type": "markdown",
   "id": "d9acc2ee",
   "metadata": {},
   "source": [
    "# Final Project - Data Science Tools and Ecosystem"
   ]
  },
  {
   "cell_type": "markdown",
   "id": "4b2e8d9b",
   "metadata": {},
   "source": [
    "## Introduction\n",
    "\n",
    "In this notebook, we will explore some of the most common tools, languages, and libraries used in the field of data science. We will also perform simple arithmetic operations using Python code cells."
   ]
  },
  {
   "cell_type": "markdown",
   "id": "4860bef0",
   "metadata": {},
   "source": [
    "## Data Science Languages\n",
    "\n",
    "Some popular languages used in Data Science are:\n",
    "\n",
    "1. Python\n",
    "2. R\n",
    "3. SQL\n",
    "4. Julia\n",
    "5. Scala"
   ]
  },
  {
   "cell_type": "markdown",
   "id": "7e3d971c",
   "metadata": {},
   "source": [
    "## Data Science Libraries\n",
    "\n",
    "Commonly used libraries in data science include:\n",
    "\n",
    "- Pandas\n",
    "- NumPy\n",
    "- Matplotlib\n",
    "- Scikit-learn\n",
    "- TensorFlow"
   ]
  },
  {
   "cell_type": "markdown",
   "id": "85f216ff",
   "metadata": {},
   "source": [
    "## Data Science Tools\n",
    "\n",
    "| Tool           | Category           |\n",
    "|----------------|--------------------|\n",
    "| JupyterLab     | Notebook Interface |\n",
    "| RStudio        | IDE                |\n",
    "| Apache Spark   | Big Data Framework |\n",
    "| TensorFlow     | Machine Learning   |\n",
    "| Tableau        | Data Visualization |"
   ]
  },
  {
   "cell_type": "markdown",
   "id": "b89f8058",
   "metadata": {},
   "source": [
    "## Examples of Arithmetic Expressions in Python\n",
    "\n",
    "Below are examples of simple arithmetic operations like multiplication and addition."
   ]
  },
  {
   "cell_type": "code",
   "execution_count": null,
   "id": "0b14c87d",
   "metadata": {},
   "outputs": [],
   "source": [
    "# This will multiply 3 by 4 and add 5\n",
    "(3 * 4) + 5"
   ]
  },
  {
   "cell_type": "code",
   "execution_count": null,
   "id": "15c8ee52",
   "metadata": {},
   "outputs": [],
   "source": [
    "# Convert 200 minutes to hours\n",
    "minutes = 200\n",
    "hours = minutes / 60\n",
    "hours"
   ]
  },
  {
   "cell_type": "markdown",
   "id": "659e8e94",
   "metadata": {},
   "source": [
    "## Objectives\n",
    "\n",
    "- List popular languages in Data Science  \n",
    "- Describe common libraries used by data scientists  \n",
    "- Create and format tables using Markdown  \n",
    "- Perform arithmetic operations in code cells  \n",
    "- Convert minutes into hours using Python"
   ]
  },
  {
   "cell_type": "markdown",
   "id": "39ffd0e9",
   "metadata": {},
   "source": [
    "## Author\n",
    "\n",
    "Korey Dillon"
   ]
  }
 ],
 "metadata": {
  "kernelspec": {
   "display_name": "Python 3 (ipykernel)",
   "language": "python",
   "name": "python3"
  },
  "language_info": {
   "codemirror_mode": {
    "name": "ipython",
    "version": 3
   },
   "file_extension": ".py",
   "mimetype": "text/x-python",
   "name": "python",
   "nbconvert_exporter": "python",
   "pygments_lexer": "ipython3",
   "version": "3.11.7"
  }
 },
 "nbformat": 4,
 "nbformat_minor": 5
}
